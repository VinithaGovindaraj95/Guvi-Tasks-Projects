{
 "cells": [
  {
   "cell_type": "code",
   "execution_count": 29,
   "id": "cea34f5c",
   "metadata": {},
   "outputs": [],
   "source": [
    "import pandas as pd\n",
    "import numpy as np\n",
    "DATASET_ENCODING=\"ISO-8859-1\"\n",
    "import seaborn as sns\n",
    "import matplotlib.pyplot as plt"
   ]
  },
  {
   "cell_type": "code",
   "execution_count": 5,
   "id": "2b781890",
   "metadata": {},
   "outputs": [
    {
     "data": {
      "text/html": [
       "<div>\n",
       "<style scoped>\n",
       "    .dataframe tbody tr th:only-of-type {\n",
       "        vertical-align: middle;\n",
       "    }\n",
       "\n",
       "    .dataframe tbody tr th {\n",
       "        vertical-align: top;\n",
       "    }\n",
       "\n",
       "    .dataframe thead th {\n",
       "        text-align: right;\n",
       "    }\n",
       "</style>\n",
       "<table border=\"1\" class=\"dataframe\">\n",
       "  <thead>\n",
       "    <tr style=\"text-align: right;\">\n",
       "      <th></th>\n",
       "      <th>object_id</th>\n",
       "      <th>creation_time</th>\n",
       "      <th>name</th>\n",
       "      <th>email</th>\n",
       "      <th>creation_source</th>\n",
       "      <th>last_session_creation_time</th>\n",
       "      <th>opted_in_to_mailing_list</th>\n",
       "      <th>enabled_for_marketing_drip</th>\n",
       "      <th>org_id</th>\n",
       "      <th>invited_by_user_id</th>\n",
       "    </tr>\n",
       "  </thead>\n",
       "  <tbody>\n",
       "    <tr>\n",
       "      <th>0</th>\n",
       "      <td>1</td>\n",
       "      <td>22-04-2014 03:53</td>\n",
       "      <td>Clausen August</td>\n",
       "      <td>AugustCClausen@yahoo.com</td>\n",
       "      <td>GUEST_INVITE</td>\n",
       "      <td>1.398139e+09</td>\n",
       "      <td>1</td>\n",
       "      <td>0</td>\n",
       "      <td>11</td>\n",
       "      <td>10803.0</td>\n",
       "    </tr>\n",
       "    <tr>\n",
       "      <th>1</th>\n",
       "      <td>2</td>\n",
       "      <td>15-11-2013 03:45</td>\n",
       "      <td>Poole Matthew</td>\n",
       "      <td>MatthewPoole@gustr.com</td>\n",
       "      <td>ORG_INVITE</td>\n",
       "      <td>1.396238e+09</td>\n",
       "      <td>0</td>\n",
       "      <td>0</td>\n",
       "      <td>1</td>\n",
       "      <td>316.0</td>\n",
       "    </tr>\n",
       "    <tr>\n",
       "      <th>2</th>\n",
       "      <td>3</td>\n",
       "      <td>19-03-2013 23:14</td>\n",
       "      <td>Bottrill Mitchell</td>\n",
       "      <td>MitchellBottrill@gustr.com</td>\n",
       "      <td>ORG_INVITE</td>\n",
       "      <td>1.363735e+09</td>\n",
       "      <td>0</td>\n",
       "      <td>0</td>\n",
       "      <td>94</td>\n",
       "      <td>1525.0</td>\n",
       "    </tr>\n",
       "    <tr>\n",
       "      <th>3</th>\n",
       "      <td>4</td>\n",
       "      <td>21-05-2013 08:09</td>\n",
       "      <td>Clausen Nicklas</td>\n",
       "      <td>NicklasSClausen@yahoo.com</td>\n",
       "      <td>GUEST_INVITE</td>\n",
       "      <td>1.369210e+09</td>\n",
       "      <td>0</td>\n",
       "      <td>0</td>\n",
       "      <td>1</td>\n",
       "      <td>5151.0</td>\n",
       "    </tr>\n",
       "    <tr>\n",
       "      <th>4</th>\n",
       "      <td>5</td>\n",
       "      <td>17-01-2013 10:14</td>\n",
       "      <td>Raw Grace</td>\n",
       "      <td>GraceRaw@yahoo.com</td>\n",
       "      <td>GUEST_INVITE</td>\n",
       "      <td>1.358850e+09</td>\n",
       "      <td>0</td>\n",
       "      <td>0</td>\n",
       "      <td>193</td>\n",
       "      <td>5240.0</td>\n",
       "    </tr>\n",
       "  </tbody>\n",
       "</table>\n",
       "</div>"
      ],
      "text/plain": [
       "   object_id     creation_time               name                       email  \\\n",
       "0          1  22-04-2014 03:53     Clausen August    AugustCClausen@yahoo.com   \n",
       "1          2  15-11-2013 03:45      Poole Matthew      MatthewPoole@gustr.com   \n",
       "2          3  19-03-2013 23:14  Bottrill Mitchell  MitchellBottrill@gustr.com   \n",
       "3          4  21-05-2013 08:09    Clausen Nicklas   NicklasSClausen@yahoo.com   \n",
       "4          5  17-01-2013 10:14          Raw Grace          GraceRaw@yahoo.com   \n",
       "\n",
       "  creation_source  last_session_creation_time  opted_in_to_mailing_list  \\\n",
       "0    GUEST_INVITE                1.398139e+09                         1   \n",
       "1      ORG_INVITE                1.396238e+09                         0   \n",
       "2      ORG_INVITE                1.363735e+09                         0   \n",
       "3    GUEST_INVITE                1.369210e+09                         0   \n",
       "4    GUEST_INVITE                1.358850e+09                         0   \n",
       "\n",
       "   enabled_for_marketing_drip  org_id  invited_by_user_id  \n",
       "0                           0      11             10803.0  \n",
       "1                           0       1               316.0  \n",
       "2                           0      94              1525.0  \n",
       "3                           0       1              5151.0  \n",
       "4                           0     193              5240.0  "
      ]
     },
     "execution_count": 5,
     "metadata": {},
     "output_type": "execute_result"
    }
   ],
   "source": [
    "df=pd.read_csv(r\"C:\\Users\\ADMIN\\Downloads\\Data sets\\takehome_users.csv\",encoding=DATASET_ENCODING)\n",
    "df.head()"
   ]
  },
  {
   "cell_type": "code",
   "execution_count": 6,
   "id": "6b2bd5dc",
   "metadata": {},
   "outputs": [
    {
     "name": "stdout",
     "output_type": "stream",
     "text": [
      "<class 'pandas.core.frame.DataFrame'>\n",
      "RangeIndex: 12000 entries, 0 to 11999\n",
      "Data columns (total 10 columns):\n",
      " #   Column                      Non-Null Count  Dtype  \n",
      "---  ------                      --------------  -----  \n",
      " 0   object_id                   12000 non-null  int64  \n",
      " 1   creation_time               12000 non-null  object \n",
      " 2   name                        12000 non-null  object \n",
      " 3   email                       12000 non-null  object \n",
      " 4   creation_source             12000 non-null  object \n",
      " 5   last_session_creation_time  8823 non-null   float64\n",
      " 6   opted_in_to_mailing_list    12000 non-null  int64  \n",
      " 7   enabled_for_marketing_drip  12000 non-null  int64  \n",
      " 8   org_id                      12000 non-null  int64  \n",
      " 9   invited_by_user_id          6417 non-null   float64\n",
      "dtypes: float64(2), int64(4), object(4)\n",
      "memory usage: 937.6+ KB\n"
     ]
    }
   ],
   "source": [
    "df.info()"
   ]
  },
  {
   "cell_type": "code",
   "execution_count": 4,
   "id": "e39a45f0",
   "metadata": {},
   "outputs": [
    {
     "data": {
      "text/html": [
       "<div>\n",
       "<style scoped>\n",
       "    .dataframe tbody tr th:only-of-type {\n",
       "        vertical-align: middle;\n",
       "    }\n",
       "\n",
       "    .dataframe tbody tr th {\n",
       "        vertical-align: top;\n",
       "    }\n",
       "\n",
       "    .dataframe thead th {\n",
       "        text-align: right;\n",
       "    }\n",
       "</style>\n",
       "<table border=\"1\" class=\"dataframe\">\n",
       "  <thead>\n",
       "    <tr style=\"text-align: right;\">\n",
       "      <th></th>\n",
       "      <th>time_stamp</th>\n",
       "      <th>user_id</th>\n",
       "      <th>visited</th>\n",
       "    </tr>\n",
       "  </thead>\n",
       "  <tbody>\n",
       "    <tr>\n",
       "      <th>0</th>\n",
       "      <td>2014-04-22 03:53:30</td>\n",
       "      <td>1</td>\n",
       "      <td>1</td>\n",
       "    </tr>\n",
       "    <tr>\n",
       "      <th>1</th>\n",
       "      <td>2013-11-15 03:45:04</td>\n",
       "      <td>2</td>\n",
       "      <td>1</td>\n",
       "    </tr>\n",
       "    <tr>\n",
       "      <th>2</th>\n",
       "      <td>2013-11-29 03:45:04</td>\n",
       "      <td>2</td>\n",
       "      <td>1</td>\n",
       "    </tr>\n",
       "    <tr>\n",
       "      <th>3</th>\n",
       "      <td>2013-12-09 03:45:04</td>\n",
       "      <td>2</td>\n",
       "      <td>1</td>\n",
       "    </tr>\n",
       "    <tr>\n",
       "      <th>4</th>\n",
       "      <td>2013-12-25 03:45:04</td>\n",
       "      <td>2</td>\n",
       "      <td>1</td>\n",
       "    </tr>\n",
       "  </tbody>\n",
       "</table>\n",
       "</div>"
      ],
      "text/plain": [
       "            time_stamp  user_id  visited\n",
       "0  2014-04-22 03:53:30        1        1\n",
       "1  2013-11-15 03:45:04        2        1\n",
       "2  2013-11-29 03:45:04        2        1\n",
       "3  2013-12-09 03:45:04        2        1\n",
       "4  2013-12-25 03:45:04        2        1"
      ]
     },
     "execution_count": 4,
     "metadata": {},
     "output_type": "execute_result"
    }
   ],
   "source": [
    "df1=pd.read_csv(r\"C:\\Users\\ADMIN\\Downloads\\Data sets\\takehome_user_engagement.csv\",encoding=DATASET_ENCODING)\n",
    "df.head()"
   ]
  },
  {
   "cell_type": "code",
   "execution_count": 7,
   "id": "8b019f18",
   "metadata": {},
   "outputs": [
    {
     "name": "stdout",
     "output_type": "stream",
     "text": [
      "<class 'pandas.core.frame.DataFrame'>\n",
      "RangeIndex: 207917 entries, 0 to 207916\n",
      "Data columns (total 3 columns):\n",
      " #   Column      Non-Null Count   Dtype \n",
      "---  ------      --------------   ----- \n",
      " 0   time_stamp  207917 non-null  object\n",
      " 1   user_id     207917 non-null  int64 \n",
      " 2   visited     207917 non-null  int64 \n",
      "dtypes: int64(2), object(1)\n",
      "memory usage: 4.8+ MB\n"
     ]
    }
   ],
   "source": [
    "df1.info()"
   ]
  },
  {
   "cell_type": "code",
   "execution_count": 8,
   "id": "b4c66600",
   "metadata": {},
   "outputs": [],
   "source": [
    "#Functions I commonly use to deal with date/time values\n",
    "def get_date_int(df, column):\n",
    "    year = df[column].dt.year\n",
    "    month = df[column].dt.month\n",
    "    day = df[column].dt.day\n",
    "    return year, month, day\n",
    "\n",
    "def get_week(x): return x.isocalendar()\n",
    "\n",
    "def get_iso_date_int(df,column):\n",
    "    temp_df=pd.DataFrame(df[column].tolist(), index=df.index)\n",
    "    year,week,day=temp_df[0],temp_df[1],temp_df[2]\n",
    "    return year,week,day"
   ]
  },
  {
   "cell_type": "code",
   "execution_count": 11,
   "id": "63470453",
   "metadata": {},
   "outputs": [
    {
     "data": {
      "text/html": [
       "<div>\n",
       "<style scoped>\n",
       "    .dataframe tbody tr th:only-of-type {\n",
       "        vertical-align: middle;\n",
       "    }\n",
       "\n",
       "    .dataframe tbody tr th {\n",
       "        vertical-align: top;\n",
       "    }\n",
       "\n",
       "    .dataframe thead th {\n",
       "        text-align: right;\n",
       "    }\n",
       "</style>\n",
       "<table border=\"1\" class=\"dataframe\">\n",
       "  <thead>\n",
       "    <tr style=\"text-align: right;\">\n",
       "      <th></th>\n",
       "      <th>creation_time</th>\n",
       "      <th>creation_source</th>\n",
       "      <th>last_session_creation_time</th>\n",
       "      <th>opted_in_to_mailing_list</th>\n",
       "      <th>enabled_for_marketing_drip</th>\n",
       "      <th>org_id</th>\n",
       "      <th>invited_by_user_id</th>\n",
       "      <th>user_id</th>\n",
       "    </tr>\n",
       "  </thead>\n",
       "  <tbody>\n",
       "    <tr>\n",
       "      <th>0</th>\n",
       "      <td>2014-04-22 03:53:00</td>\n",
       "      <td>GUEST_INVITE</td>\n",
       "      <td>1970-01-01 00:00:01.398138810</td>\n",
       "      <td>1</td>\n",
       "      <td>0</td>\n",
       "      <td>11</td>\n",
       "      <td>10803.0</td>\n",
       "      <td>1</td>\n",
       "    </tr>\n",
       "    <tr>\n",
       "      <th>1</th>\n",
       "      <td>2013-11-15 03:45:00</td>\n",
       "      <td>ORG_INVITE</td>\n",
       "      <td>1970-01-01 00:00:01.396237504</td>\n",
       "      <td>0</td>\n",
       "      <td>0</td>\n",
       "      <td>1</td>\n",
       "      <td>316.0</td>\n",
       "      <td>2</td>\n",
       "    </tr>\n",
       "    <tr>\n",
       "      <th>2</th>\n",
       "      <td>2013-03-19 23:14:00</td>\n",
       "      <td>ORG_INVITE</td>\n",
       "      <td>1970-01-01 00:00:01.363734892</td>\n",
       "      <td>0</td>\n",
       "      <td>0</td>\n",
       "      <td>94</td>\n",
       "      <td>1525.0</td>\n",
       "      <td>3</td>\n",
       "    </tr>\n",
       "    <tr>\n",
       "      <th>3</th>\n",
       "      <td>2013-05-21 08:09:00</td>\n",
       "      <td>GUEST_INVITE</td>\n",
       "      <td>1970-01-01 00:00:01.369210168</td>\n",
       "      <td>0</td>\n",
       "      <td>0</td>\n",
       "      <td>1</td>\n",
       "      <td>5151.0</td>\n",
       "      <td>4</td>\n",
       "    </tr>\n",
       "    <tr>\n",
       "      <th>4</th>\n",
       "      <td>2013-01-17 10:14:00</td>\n",
       "      <td>GUEST_INVITE</td>\n",
       "      <td>1970-01-01 00:00:01.358849660</td>\n",
       "      <td>0</td>\n",
       "      <td>0</td>\n",
       "      <td>193</td>\n",
       "      <td>5240.0</td>\n",
       "      <td>5</td>\n",
       "    </tr>\n",
       "  </tbody>\n",
       "</table>\n",
       "</div>"
      ],
      "text/plain": [
       "        creation_time creation_source    last_session_creation_time  \\\n",
       "0 2014-04-22 03:53:00    GUEST_INVITE 1970-01-01 00:00:01.398138810   \n",
       "1 2013-11-15 03:45:00      ORG_INVITE 1970-01-01 00:00:01.396237504   \n",
       "2 2013-03-19 23:14:00      ORG_INVITE 1970-01-01 00:00:01.363734892   \n",
       "3 2013-05-21 08:09:00    GUEST_INVITE 1970-01-01 00:00:01.369210168   \n",
       "4 2013-01-17 10:14:00    GUEST_INVITE 1970-01-01 00:00:01.358849660   \n",
       "\n",
       "   opted_in_to_mailing_list  enabled_for_marketing_drip  org_id  \\\n",
       "0                         1                           0      11   \n",
       "1                         0                           0       1   \n",
       "2                         0                           0      94   \n",
       "3                         0                           0       1   \n",
       "4                         0                           0     193   \n",
       "\n",
       "   invited_by_user_id  user_id  \n",
       "0             10803.0        1  \n",
       "1               316.0        2  \n",
       "2              1525.0        3  \n",
       "3              5151.0        4  \n",
       "4              5240.0        5  "
      ]
     },
     "execution_count": 11,
     "metadata": {},
     "output_type": "execute_result"
    }
   ],
   "source": [
    "df.creation_time = pd.to_datetime(df['creation_time'])\n",
    "df.last_session_creation_time = pd.to_datetime(df['last_session_creation_time'])\n",
    "#change column heading\n",
    "df['user_id'] = df['object_id']\n",
    "#drop original column\n",
    "df.drop('object_id', axis=1, inplace=True)\n",
    "#drop private information\n",
    "df.drop(['name', 'email'], axis=1, inplace=True)\n",
    "\n",
    "df.head()"
   ]
  },
  {
   "cell_type": "code",
   "execution_count": 13,
   "id": "482b5297",
   "metadata": {},
   "outputs": [
    {
     "name": "stdout",
     "output_type": "stream",
     "text": [
      "<class 'pandas.core.frame.DataFrame'>\n",
      "RangeIndex: 12000 entries, 0 to 11999\n",
      "Data columns (total 8 columns):\n",
      " #   Column                      Non-Null Count  Dtype         \n",
      "---  ------                      --------------  -----         \n",
      " 0   creation_time               12000 non-null  datetime64[ns]\n",
      " 1   creation_source             12000 non-null  object        \n",
      " 2   last_session_creation_time  8823 non-null   datetime64[ns]\n",
      " 3   opted_in_to_mailing_list    12000 non-null  int64         \n",
      " 4   enabled_for_marketing_drip  12000 non-null  int64         \n",
      " 5   org_id                      12000 non-null  int64         \n",
      " 6   invited_by_user_id          6417 non-null   float64       \n",
      " 7   user_id                     12000 non-null  int64         \n",
      "dtypes: datetime64[ns](2), float64(1), int64(4), object(1)\n",
      "memory usage: 750.1+ KB\n"
     ]
    }
   ],
   "source": [
    "df.info()"
   ]
  },
  {
   "cell_type": "code",
   "execution_count": 14,
   "id": "3e57375c",
   "metadata": {},
   "outputs": [],
   "source": [
    "df1['time_stamp'] = pd.to_datetime(df1['time_stamp'])\n",
    "df1['week_time_stamp']=df1['time_stamp'].apply(get_week)"
   ]
  },
  {
   "cell_type": "code",
   "execution_count": 15,
   "id": "3d0fb452",
   "metadata": {},
   "outputs": [
    {
     "name": "stdout",
     "output_type": "stream",
     "text": [
      "First user engagement timestamp: 2012-05-31 08:20:06\n",
      "Last user engagement timestamp: 2014-06-06 14:58:50\n"
     ]
    }
   ],
   "source": [
    "print('First user engagement timestamp:',min(df1.time_stamp))\n",
    "print('Last user engagement timestamp:',max(df1.time_stamp))"
   ]
  },
  {
   "cell_type": "code",
   "execution_count": 16,
   "id": "ddba453f",
   "metadata": {},
   "outputs": [
    {
     "name": "stderr",
     "output_type": "stream",
     "text": [
      "C:\\Users\\ADMIN\\AppData\\Local\\Temp\\ipykernel_10368\\3789775834.py:3: FutureWarning: Series.dt.weekofyear and Series.dt.week have been deprecated. Please use Series.dt.isocalendar().week instead.\n",
      "  df1['week']=df1['time_stamp'].dt.week\n"
     ]
    }
   ],
   "source": [
    "year, month, day=get_date_int(df1, 'time_stamp')\n",
    "df1['year'],df1['month'],df1['day']=year,month,day\n",
    "df1['week']=df1['time_stamp'].dt.week\n",
    "iso_year,iso_week,iso_day=get_iso_date_int(df1,'week_time_stamp')\n",
    "df1['year_week']=list(zip(iso_year,iso_week))"
   ]
  },
  {
   "cell_type": "code",
   "execution_count": 17,
   "id": "84e5c538",
   "metadata": {},
   "outputs": [],
   "source": [
    "df1=df1.sort_values(['time_stamp','user_id'],ascending=True)\n",
    "df1=df1[['user_id','visited','day','year_week']]"
   ]
  },
  {
   "cell_type": "code",
   "execution_count": 18,
   "id": "7af40018",
   "metadata": {},
   "outputs": [],
   "source": [
    "adopted_user_dict={}\n",
    "weeks=df1.year_week\n",
    "user_ids=list(set(df1['user_id']))\n",
    "for i in range(len(user_ids)):\n",
    "    user_id=user_ids[i]\n",
    "    reduced_df=df1[(df1['user_id']==user_id)&(weeks.isin(weeks[weeks.duplicated()]))]\n",
    "    week_counts=reduced_df.year_week.value_counts()[reduced_df.year_week.value_counts()>2]\n",
    "    three_logins=reduced_df[reduced_df.year_week.isin(list(week_counts.index))]\n",
    "    three_logins=three_logins[~three_logins.duplicated()]\n",
    "    adopted_user_dict[str(user_id)]=len(three_logins)"
   ]
  },
  {
   "cell_type": "code",
   "execution_count": 19,
   "id": "32f3a480",
   "metadata": {},
   "outputs": [
    {
     "name": "stderr",
     "output_type": "stream",
     "text": [
      "C:\\Users\\ADMIN\\AppData\\Local\\Temp\\ipykernel_10368\\4132361237.py:4: SettingWithCopyWarning: \n",
      "A value is trying to be set on a copy of a slice from a DataFrame\n",
      "\n",
      "See the caveats in the documentation: https://pandas.pydata.org/pandas-docs/stable/user_guide/indexing.html#returning-a-view-versus-a-copy\n",
      "  df1['adopted_user'][df1['engagement_index']>0]=1\n"
     ]
    }
   ],
   "source": [
    "df1['engagement_index']=df1['user_id'].apply(lambda x: adopted_user_dict[str(x)])\n",
    "#Code engagement_index as boolean values, which will be the adopted_user records\n",
    "df1['adopted_user']=0\n",
    "df1['adopted_user'][df1['engagement_index']>0]=1"
   ]
  },
  {
   "cell_type": "code",
   "execution_count": 20,
   "id": "66f7a134",
   "metadata": {},
   "outputs": [
    {
     "name": "stdout",
     "output_type": "stream",
     "text": [
      "Number of adopted users: 1445\n"
     ]
    }
   ],
   "source": [
    "adopted_count=df1[['user_id','adopted_user']][df1['adopted_user']==1].groupby('user_id').count()\n",
    "print('Number of adopted users:',len(adopted_count))"
   ]
  },
  {
   "cell_type": "code",
   "execution_count": 21,
   "id": "aa47a1b2",
   "metadata": {},
   "outputs": [],
   "source": [
    "adopted=df1[['user_id','adopted_user']]\n",
    "adopted_users = pd.merge(df, adopted, on='user_id', how='outer')"
   ]
  },
  {
   "cell_type": "code",
   "execution_count": 22,
   "id": "edd31328",
   "metadata": {},
   "outputs": [],
   "source": [
    "creation_year, creation_month, creation_day=get_date_int(adopted_users, 'creation_time')\n",
    "last_session_year, last_session_month, last_session_day=get_date_int(adopted_users, 'last_session_creation_time')\n",
    "adopted_users['creation_year'],adopted_users['creation_month'],adopted_users['creation_day']=creation_year, creation_month, creation_day\n",
    "adopted_users['last_session_year'],adopted_users['last_session_month'],adopted_users['last_session_day']=last_session_year, last_session_month, last_session_day\n",
    "adopted_users.drop(['creation_time', 'last_session_creation_time', 'user_id'], axis=1, inplace=True)"
   ]
  },
  {
   "cell_type": "code",
   "execution_count": 23,
   "id": "375101e2",
   "metadata": {},
   "outputs": [],
   "source": [
    "adopted_users.last_session_day.fillna(0, inplace=True)\n",
    "adopted_users.last_session_month.fillna(0, inplace=True)\n",
    "adopted_users.last_session_year.fillna(0, inplace=True)"
   ]
  },
  {
   "cell_type": "code",
   "execution_count": 24,
   "id": "a289134d",
   "metadata": {},
   "outputs": [],
   "source": [
    "from sklearn import preprocessing \n",
    "from sklearn.preprocessing import LabelEncoder\n",
    "le = preprocessing.LabelEncoder()\n",
    "adopted_users['creation_source']=le.fit_transform(adopted_users['creation_source'])"
   ]
  },
  {
   "cell_type": "code",
   "execution_count": 25,
   "id": "09dbb24f",
   "metadata": {},
   "outputs": [],
   "source": [
    "adopted_users['invited'] = np.where(adopted_users['invited_by_user_id'].isnull(), 1, 0)\n",
    "adopted_users.drop('invited_by_user_id', axis=1, inplace=True)\n",
    "adopted_users=adopted_users.fillna(0)\n",
    "col_names=list(pd.Series(adopted_users.columns)[pd.Series(adopted_users.columns)!='adopted_user'])\n",
    "X=adopted_users[list(pd.Series(adopted_users.columns)[pd.Series(adopted_users.columns)!='adopted_user'])].values\n",
    "y=adopted_users['adopted_user'].values"
   ]
  },
  {
   "cell_type": "code",
   "execution_count": 26,
   "id": "b3aa1db6",
   "metadata": {},
   "outputs": [
    {
     "name": "stdout",
     "output_type": "stream",
     "text": [
      "Train size: 69.99962102191441\n",
      "Train observations: 147765\n",
      "Test size: 30.00037897808559\n",
      "Test observations: 63329\n"
     ]
    }
   ],
   "source": [
    "from sklearn.model_selection import train_test_split\n",
    "X_train, X_test, y_train, y_test = train_test_split(X,y,test_size = 0.3,random_state=3)\n",
    "print('Train size:',(len(X_train)/len(X))*100)\n",
    "print('Train observations:',(len(X_train)))\n",
    "print('Test size:',(len(X_test)/len(X))*100)\n",
    "print('Test observations:',(len(X_test)))"
   ]
  },
  {
   "cell_type": "code",
   "execution_count": 27,
   "id": "cf692d0e",
   "metadata": {},
   "outputs": [
    {
     "name": "stdout",
     "output_type": "stream",
     "text": [
      "Accuracy: 0.999905254965655 \n",
      "\n",
      "Feature ranking:\n"
     ]
    }
   ],
   "source": [
    "from sklearn.decomposition import PCA\n",
    "from sklearn.metrics import accuracy_score, roc_auc_score, make_scorer\n",
    "from sklearn.model_selection import train_test_split, StratifiedKFold, GridSearchCV, cross_val_score\n",
    "from sklearn.ensemble import RandomForestClassifier\n",
    "\n",
    "clf = RandomForestClassifier(n_estimators=20,random_state=0,criterion='gini', class_weight='balanced')\n",
    "\n",
    "clf.fit(X_train, y_train.ravel())\n",
    "Accuracy=clf.score(X_train, y_train.ravel())\n",
    "print('Accuracy:',Accuracy,'\\n')\n",
    "\n",
    "importFeature = clf.feature_importances_\n",
    "feature_importances=pd.DataFrame([importFeature])\n",
    "\n",
    "std = np.std([tree.feature_importances_ for tree in clf.estimators_],axis=0)\n",
    "indices = np.argsort(importFeature)[::-1]\n",
    "\n",
    "print(\"Feature ranking:\")"
   ]
  },
  {
   "cell_type": "code",
   "execution_count": 30,
   "id": "ecdb8d08",
   "metadata": {},
   "outputs": [
    {
     "data": {
      "image/png": "[encoded data removed]",
      "text/plain": [
       "<Figure size 432x288 with 1 Axes>"
      ]
     },
     "metadata": {
      "needs_background": "light"
     },
     "output_type": "display_data"
    },
    {
     "data": {
      "text/html": [
       "<div>\n",
       "<style scoped>\n",
       "    .dataframe tbody tr th:only-of-type {\n",
       "        vertical-align: middle;\n",
       "    }\n",
       "\n",
       "    .dataframe tbody tr th {\n",
       "        vertical-align: top;\n",
       "    }\n",
       "\n",
       "    .dataframe thead th {\n",
       "        text-align: right;\n",
       "    }\n",
       "</style>\n",
       "<table border=\"1\" class=\"dataframe\">\n",
       "  <thead>\n",
       "    <tr style=\"text-align: right;\">\n",
       "      <th></th>\n",
       "      <th>features</th>\n",
       "      <th>importance</th>\n",
       "    </tr>\n",
       "  </thead>\n",
       "  <tbody>\n",
       "    <tr>\n",
       "      <th>3</th>\n",
       "      <td>org_id</td>\n",
       "      <td>0.291667</td>\n",
       "    </tr>\n",
       "    <tr>\n",
       "      <th>6</th>\n",
       "      <td>creation_day</td>\n",
       "      <td>0.204069</td>\n",
       "    </tr>\n",
       "    <tr>\n",
       "      <th>4</th>\n",
       "      <td>creation_year</td>\n",
       "      <td>0.170746</td>\n",
       "    </tr>\n",
       "    <tr>\n",
       "      <th>5</th>\n",
       "      <td>creation_month</td>\n",
       "      <td>0.121280</td>\n",
       "    </tr>\n",
       "    <tr>\n",
       "      <th>8</th>\n",
       "      <td>last_session_month</td>\n",
       "      <td>0.050411</td>\n",
       "    </tr>\n",
       "    <tr>\n",
       "      <th>0</th>\n",
       "      <td>creation_source</td>\n",
       "      <td>0.047896</td>\n",
       "    </tr>\n",
       "    <tr>\n",
       "      <th>9</th>\n",
       "      <td>last_session_day</td>\n",
       "      <td>0.041710</td>\n",
       "    </tr>\n",
       "    <tr>\n",
       "      <th>7</th>\n",
       "      <td>last_session_year</td>\n",
       "      <td>0.030074</td>\n",
       "    </tr>\n",
       "    <tr>\n",
       "      <th>1</th>\n",
       "      <td>opted_in_to_mailing_list</td>\n",
       "      <td>0.016526</td>\n",
       "    </tr>\n",
       "    <tr>\n",
       "      <th>2</th>\n",
       "      <td>enabled_for_marketing_drip</td>\n",
       "      <td>0.016465</td>\n",
       "    </tr>\n",
       "    <tr>\n",
       "      <th>10</th>\n",
       "      <td>invited</td>\n",
       "      <td>0.009156</td>\n",
       "    </tr>\n",
       "  </tbody>\n",
       "</table>\n",
       "</div>"
      ],
      "text/plain": [
       "                      features  importance\n",
       "3                       org_id    0.291667\n",
       "6                 creation_day    0.204069\n",
       "4                creation_year    0.170746\n",
       "5               creation_month    0.121280\n",
       "8           last_session_month    0.050411\n",
       "0              creation_source    0.047896\n",
       "9             last_session_day    0.041710\n",
       "7            last_session_year    0.030074\n",
       "1     opted_in_to_mailing_list    0.016526\n",
       "2   enabled_for_marketing_drip    0.016465\n",
       "10                     invited    0.009156"
      ]
     },
     "execution_count": 30,
     "metadata": {},
     "output_type": "execute_result"
    }
   ],
   "source": [
    "plt.figure()\n",
    "plt.title(\"Feature importances\")\n",
    "plt.bar(range(X.shape[1]), importFeature[indices],color=\"r\", yerr=std[indices], align=\"center\")\n",
    "plt.xticks(range(X.shape[1]), indices)\n",
    "plt.xlim([-1, X.shape[1]])\n",
    "plt.show()\n",
    "\n",
    "feature_importances=pd.DataFrame(pd.Series(col_names)[indices])\n",
    "feature_importances['importance']=np.sort(importFeature)[::-1]\n",
    "feature_importances.columns=['features','importance']\n",
    "feature_importances"
   ]
  }
 ],
 "metadata": {
  "kernelspec": {
   "display_name": "Python 3 (ipykernel)",
   "language": "python",
   "name": "python3"
  },
  "language_info": {
   "codemirror_mode": {
    "name": "ipython",
    "version": 3
   },
   "file_extension": ".py",
   "mimetype": "text/x-python",
   "name": "python",
   "nbconvert_exporter": "python",
   "pygments_lexer": "ipython3",
   "version": "3.9.12"
  }
 },
 "nbformat": 4,
 "nbformat_minor": 5
}
