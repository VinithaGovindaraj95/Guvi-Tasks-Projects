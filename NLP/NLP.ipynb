{
 "cells": [
  {
   "cell_type": "code",
   "execution_count": 1,
   "id": "4d669403",
   "metadata": {},
   "outputs": [],
   "source": [
    "import pandas as pd"
   ]
  },
  {
   "cell_type": "code",
   "execution_count": 2,
   "id": "f015e4d0",
   "metadata": {},
   "outputs": [
    {
     "data": {
      "text/html": [
       "<div>\n",
       "<style scoped>\n",
       "    .dataframe tbody tr th:only-of-type {\n",
       "        vertical-align: middle;\n",
       "    }\n",
       "\n",
       "    .dataframe tbody tr th {\n",
       "        vertical-align: top;\n",
       "    }\n",
       "\n",
       "    .dataframe thead th {\n",
       "        text-align: right;\n",
       "    }\n",
       "</style>\n",
       "<table border=\"1\" class=\"dataframe\">\n",
       "  <thead>\n",
       "    <tr style=\"text-align: right;\">\n",
       "      <th></th>\n",
       "      <th>English words/sentences</th>\n",
       "    </tr>\n",
       "  </thead>\n",
       "  <tbody>\n",
       "    <tr>\n",
       "      <th>0</th>\n",
       "      <td>Hi.</td>\n",
       "    </tr>\n",
       "    <tr>\n",
       "      <th>1</th>\n",
       "      <td>Run!</td>\n",
       "    </tr>\n",
       "    <tr>\n",
       "      <th>2</th>\n",
       "      <td>Run!</td>\n",
       "    </tr>\n",
       "    <tr>\n",
       "      <th>3</th>\n",
       "      <td>Who?</td>\n",
       "    </tr>\n",
       "    <tr>\n",
       "      <th>4</th>\n",
       "      <td>Wow!</td>\n",
       "    </tr>\n",
       "  </tbody>\n",
       "</table>\n",
       "</div>"
      ],
      "text/plain": [
       "  English words/sentences\n",
       "0                     Hi.\n",
       "1                    Run!\n",
       "2                    Run!\n",
       "3                    Who?\n",
       "4                    Wow!"
      ]
     },
     "execution_count": 2,
     "metadata": {},
     "output_type": "execute_result"
    }
   ],
   "source": [
    "df=pd.read_csv(r\"C:\\Users\\ADMIN\\Downloads\\Data sets\\English.csv\")\n",
    "df.head()"
   ]
  },
  {
   "cell_type": "code",
   "execution_count": 3,
   "id": "990883dc",
   "metadata": {},
   "outputs": [
    {
     "data": {
      "text/plain": [
       "(175621, 1)"
      ]
     },
     "execution_count": 3,
     "metadata": {},
     "output_type": "execute_result"
    }
   ],
   "source": [
    "df.shape"
   ]
  },
  {
   "cell_type": "code",
   "execution_count": 4,
   "id": "c76ebefe",
   "metadata": {},
   "outputs": [],
   "source": [
    "df.drop_duplicates(keep=False,inplace=True)"
   ]
  },
  {
   "cell_type": "code",
   "execution_count": 5,
   "id": "160822eb",
   "metadata": {},
   "outputs": [
    {
     "data": {
      "text/plain": [
       "(87677, 1)"
      ]
     },
     "execution_count": 5,
     "metadata": {},
     "output_type": "execute_result"
    }
   ],
   "source": [
    "df.shape"
   ]
  },
  {
   "cell_type": "code",
   "execution_count": 6,
   "id": "48445337",
   "metadata": {},
   "outputs": [
    {
     "data": {
      "text/plain": [
       "array(['Hi.', 'Who?', 'Wow!', ...,\n",
       "       \"Death is something that we're often discouraged to talk about or even think about, but I've realized that preparing for death is one of the most empowering things you can do. Thinking about death clarifies your life.\",\n",
       "       'Since there are usually multiple websites on any given topic, I usually just click the back button when I arrive on any webpage that has pop-up advertising. I just go to the next page found by Google and hope for something less irritating.',\n",
       "       \"If someone who doesn't know your background says that you sound like a native speaker, it means they probably noticed something about your speaking that made them realize you weren't a native speaker. In other words, you don't really sound like a native speaker.\"],\n",
       "      dtype=object)"
      ]
     },
     "execution_count": 6,
     "metadata": {},
     "output_type": "execute_result"
    }
   ],
   "source": [
    "df[\"English words/sentences\"].unique()"
   ]
  },
  {
   "cell_type": "code",
   "execution_count": 7,
   "id": "3828d752",
   "metadata": {},
   "outputs": [
    {
     "data": {
      "text/plain": [
       "English words/sentences    0\n",
       "dtype: int64"
      ]
     },
     "execution_count": 7,
     "metadata": {},
     "output_type": "execute_result"
    }
   ],
   "source": [
    "df.isnull().sum()"
   ]
  },
  {
   "cell_type": "code",
   "execution_count": 8,
   "id": "b3a019a6",
   "metadata": {},
   "outputs": [],
   "source": [
    "df1=df.copy()"
   ]
  },
  {
   "cell_type": "markdown",
   "id": "cf989387",
   "metadata": {},
   "source": [
    "### Task-1\n",
    "#### You need to translate each word or sentence from English to Spanish, French and German \n"
   ]
  },
  {
   "cell_type": "code",
   "execution_count": 9,
   "id": "1700d0ec",
   "metadata": {},
   "outputs": [],
   "source": [
    "from googletrans import Translator, constants"
   ]
  },
  {
   "cell_type": "code",
   "execution_count": 10,
   "id": "51253718",
   "metadata": {},
   "outputs": [],
   "source": [
    "#function for translate from english to spanish\n",
    "def translator(x):\n",
    "    t=Translator()\n",
    "    trans=t.translate(x,dest=\"es\")\n",
    "    return trans.text"
   ]
  },
  {
   "cell_type": "code",
   "execution_count": 11,
   "id": "ad1479a3",
   "metadata": {},
   "outputs": [],
   "source": [
    "#function for translate from english to german\n",
    "def translato(x):\n",
    "    t=Translator()\n",
    "    trans=t.translate(x,dest=\"german\")\n",
    "    return trans.text"
   ]
  },
  {
   "cell_type": "code",
   "execution_count": 12,
   "id": "bd4899a1",
   "metadata": {},
   "outputs": [],
   "source": [
    "#function for translate from english to french\n",
    "def translators(x):\n",
    "    t=Translator()\n",
    "    trans=t.translate(x,dest=\"french\")\n",
    "    return trans.text\n"
   ]
  },
  {
   "cell_type": "code",
   "execution_count": 13,
   "id": "77df0f16",
   "metadata": {},
   "outputs": [],
   "source": [
    "words=df[\"English words/sentences\"].head(100)#top 100 datapoint is for words to perform the translation\n",
    "#if we do for all the datapoint it occur a error called timedout \n",
    "sentence=df[\"English words/sentences\"].tail(100)#bottom 100 is the sentence datapoint to perform the translation"
   ]
  },
  {
   "cell_type": "code",
   "execution_count": 14,
   "id": "8f8874f0",
   "metadata": {},
   "outputs": [],
   "source": [
    "#creating two empty dataframe\n",
    "df2=pd.DataFrame()\n",
    "df3=pd.DataFrame()"
   ]
  },
  {
   "cell_type": "code",
   "execution_count": 15,
   "id": "1acec17a",
   "metadata": {},
   "outputs": [],
   "source": [
    "#updating the two dataframe with the values of df\n",
    "df2[\"English words/sentences\"]=df[\"English words/sentences\"].head(100)\n",
    "df3[\"English words/sentences\"]=df[\"English words/sentences\"].tail(100)"
   ]
  },
  {
   "cell_type": "code",
   "execution_count": 21,
   "id": "b3463c39",
   "metadata": {},
   "outputs": [],
   "source": [
    "#using apply function to perform the operation of translation\n",
    "df2[\"spanish words/sentences\"]=words.apply(translator)\n",
    "df3[\"spanish words/sentences\"]=sentence.apply(translator)"
   ]
  },
  {
   "cell_type": "code",
   "execution_count": 28,
   "id": "2d4c1a0c",
   "metadata": {},
   "outputs": [],
   "source": [
    "#using apply function to perform the operation of translation\n",
    "df2[\"french words/sentences\"]=words.apply(translators)\n",
    "df3[\"french words/sentences\"]=sentence.apply(translators)"
   ]
  },
  {
   "cell_type": "code",
   "execution_count": 29,
   "id": "bbc8ea58",
   "metadata": {},
   "outputs": [],
   "source": [
    "#using apply function to perform the operation of translation\n",
    "df2[\"german words/sentences\"]=words.apply(translato)\n",
    "df3[\"german words/sentences\"]=sentence.apply(translato)"
   ]
  },
  {
   "cell_type": "code",
   "execution_count": 19,
   "id": "ef06c3c1",
   "metadata": {},
   "outputs": [],
   "source": [
    "language=pd.concat([df2,df3],axis=0)#then concatention the two different dataframe"
   ]
  },
  {
   "cell_type": "code",
   "execution_count": 20,
   "id": "a12da241",
   "metadata": {},
   "outputs": [
    {
     "data": {
      "text/html": [
       "<div>\n",
       "<style scoped>\n",
       "    .dataframe tbody tr th:only-of-type {\n",
       "        vertical-align: middle;\n",
       "    }\n",
       "\n",
       "    .dataframe tbody tr th {\n",
       "        vertical-align: top;\n",
       "    }\n",
       "\n",
       "    .dataframe thead th {\n",
       "        text-align: right;\n",
       "    }\n",
       "</style>\n",
       "<table border=\"1\" class=\"dataframe\">\n",
       "  <thead>\n",
       "    <tr style=\"text-align: right;\">\n",
       "      <th></th>\n",
       "      <th>English words/sentences</th>\n",
       "    </tr>\n",
       "  </thead>\n",
       "  <tbody>\n",
       "    <tr>\n",
       "      <th>0</th>\n",
       "      <td>Hi.</td>\n",
       "    </tr>\n",
       "    <tr>\n",
       "      <th>3</th>\n",
       "      <td>Who?</td>\n",
       "    </tr>\n",
       "    <tr>\n",
       "      <th>4</th>\n",
       "      <td>Wow!</td>\n",
       "    </tr>\n",
       "    <tr>\n",
       "      <th>5</th>\n",
       "      <td>Fire!</td>\n",
       "    </tr>\n",
       "    <tr>\n",
       "      <th>6</th>\n",
       "      <td>Help!</td>\n",
       "    </tr>\n",
       "  </tbody>\n",
       "</table>\n",
       "</div>"
      ],
      "text/plain": [
       "  English words/sentences\n",
       "0                     Hi.\n",
       "3                    Who?\n",
       "4                    Wow!\n",
       "5                   Fire!\n",
       "6                   Help!"
      ]
     },
     "execution_count": 20,
     "metadata": {},
     "output_type": "execute_result"
    }
   ],
   "source": [
    "language.head()#seeing the concat dataframe"
   ]
  },
  {
   "cell_type": "markdown",
   "id": "ba601d2a",
   "metadata": {},
   "source": [
    "### Task-2\n",
    "#### \tCreate a program that needs to automatically correct that spelling from the word or a given sentence. (Language : English) Note:  show 100 data point outputs both in words and sentence. \n"
   ]
  },
  {
   "cell_type": "code",
   "execution_count": 25,
   "id": "2efb5fbd",
   "metadata": {},
   "outputs": [],
   "source": [
    "from textblob import TextBlob#library"
   ]
  },
  {
   "cell_type": "code",
   "execution_count": 26,
   "id": "7732e6e6",
   "metadata": {},
   "outputs": [],
   "source": [
    "#function for correcting the spelling \n",
    "def correction(x):\n",
    "    def convert(x):\n",
    "        li=list(x.split(\" \"))\n",
    "        return li\n",
    "    words=convert(x)\n",
    "    #return words\n",
    "    corrected_words=[]\n",
    "    for i in words:\n",
    "        corrected_words.append(TextBlob(i))\n",
    "    for i in corrected_words:\n",
    "        return \"\".join(i.correct())"
   ]
  },
  {
   "cell_type": "code",
   "execution_count": 27,
   "id": "19874bda",
   "metadata": {},
   "outputs": [],
   "source": [
    "words=df[\"English words/sentences\"].head(100)#top 100 datapoints for words\n",
    "sentence=df[\"English words/sentences\"].tail(100)#bottom 100 datapoints for sentence"
   ]
  },
  {
   "cell_type": "code",
   "execution_count": 28,
   "id": "bb56c3de",
   "metadata": {},
   "outputs": [],
   "source": [
    "#creating the empty dataframe\n",
    "df4=pd.DataFrame()\n",
    "df5=pd.DataFrame()"
   ]
  },
  {
   "cell_type": "code",
   "execution_count": 29,
   "id": "0b0978c8",
   "metadata": {},
   "outputs": [],
   "source": [
    "#updating the two dataframe with the values of df\n",
    "df4[\"English words/sentences\"]=df[\"English words/sentences\"].head(100)\n",
    "df5[\"English words/sentences\"]=df[\"English words/sentences\"].tail(100)"
   ]
  },
  {
   "cell_type": "code",
   "execution_count": 30,
   "id": "cf626a0c",
   "metadata": {},
   "outputs": [],
   "source": [
    "#using apply function to perform the operation of translation\n",
    "df4[\"spelling words/sentences\"]=df[\"English words/sentences\"].apply(correction)\n",
    "df5[\"spelling words/sentences\"]=df[\"English words/sentences\"].apply(correction)"
   ]
  },
  {
   "cell_type": "code",
   "execution_count": 33,
   "id": "4d3b4f8a",
   "metadata": {},
   "outputs": [],
   "source": [
    "spell_correction=pd.concat([df4,df5],axis=0)#concat the dataframe "
   ]
  },
  {
   "cell_type": "code",
   "execution_count": 34,
   "id": "01d28923",
   "metadata": {},
   "outputs": [
    {
     "data": {
      "text/html": [
       "<div>\n",
       "<style scoped>\n",
       "    .dataframe tbody tr th:only-of-type {\n",
       "        vertical-align: middle;\n",
       "    }\n",
       "\n",
       "    .dataframe tbody tr th {\n",
       "        vertical-align: top;\n",
       "    }\n",
       "\n",
       "    .dataframe thead th {\n",
       "        text-align: right;\n",
       "    }\n",
       "</style>\n",
       "<table border=\"1\" class=\"dataframe\">\n",
       "  <thead>\n",
       "    <tr style=\"text-align: right;\">\n",
       "      <th></th>\n",
       "      <th>English words/sentences</th>\n",
       "      <th>spelling words/sentences</th>\n",
       "    </tr>\n",
       "  </thead>\n",
       "  <tbody>\n",
       "    <tr>\n",
       "      <th>0</th>\n",
       "      <td>Hi.</td>\n",
       "      <td>I.</td>\n",
       "    </tr>\n",
       "    <tr>\n",
       "      <th>3</th>\n",
       "      <td>Who?</td>\n",
       "      <td>Who?</td>\n",
       "    </tr>\n",
       "    <tr>\n",
       "      <th>4</th>\n",
       "      <td>Wow!</td>\n",
       "      <td>Now!</td>\n",
       "    </tr>\n",
       "    <tr>\n",
       "      <th>5</th>\n",
       "      <td>Fire!</td>\n",
       "      <td>Fire!</td>\n",
       "    </tr>\n",
       "    <tr>\n",
       "      <th>6</th>\n",
       "      <td>Help!</td>\n",
       "      <td>Help!</td>\n",
       "    </tr>\n",
       "  </tbody>\n",
       "</table>\n",
       "</div>"
      ],
      "text/plain": [
       "  English words/sentences spelling words/sentences\n",
       "0                     Hi.                       I.\n",
       "3                    Who?                     Who?\n",
       "4                    Wow!                     Now!\n",
       "5                   Fire!                    Fire!\n",
       "6                   Help!                    Help!"
      ]
     },
     "execution_count": 34,
     "metadata": {},
     "output_type": "execute_result"
    }
   ],
   "source": [
    "spell_correction.head()#viewing the top 5 datapoint"
   ]
  },
  {
   "cell_type": "markdown",
   "id": "a595faa6",
   "metadata": {},
   "source": [
    "### Task-3\n",
    "#### \tCreate an application that should be used by the HR Team to filter the resume based on the Skills.\n"
   ]
  },
  {
   "cell_type": "code",
   "execution_count": 39,
   "id": "8b900f74",
   "metadata": {},
   "outputs": [
    {
     "name": "stdout",
     "output_type": "stream",
     "text": [
      "Resume match :23 %\n"
     ]
    }
   ],
   "source": [
    "import docx2txt#library\n",
    "from sklearn.feature_extraction.text import CountVectorizer#library \n",
    "from sklearn.metrics.pairwise import cosine_similarity#library\n",
    "\n",
    "job_description=docx2txt.process(r\"C:\\Users\\ADMIN\\Downloads\\Job Description.docx\")\n",
    "\n",
    "resume=docx2txt.process(r\"C:\\Users\\ADMIN\\Downloads\\Vinitha resume.docx\")\n",
    "\n",
    "content=[job_description,resume]#convert the text to a list\n",
    "\n",
    "cv=CountVectorizer()#countvectorizer convert text to numerical\n",
    "\n",
    "matrix=cv.fit_transform(content)\n",
    "\n",
    "similarity=cosine_similarity(matrix)#cosine similarity between the job description and your resume\n",
    "\n",
    "print(\"Resume match :{} %\".format(round(similarity[1][0]*100)))"
   ]
  },
  {
   "cell_type": "markdown",
   "id": "891760a5",
   "metadata": {},
   "source": [
    "### Task-4\n",
    "#### \tCreate a chatbot for Hotel Management to Book Rooms \n",
    "\n",
    "#### Details collected from : Customer Name, Mobile Number, Address, ID proof, and Room Type and date of arrival and departure date. Keep some eligibility to Book the Room .All through voice to text classifications\n",
    "\n"
   ]
  },
  {
   "cell_type": "code",
   "execution_count": 42,
   "id": "22c6f607",
   "metadata": {},
   "outputs": [],
   "source": [
    "import speech_recognition as sr#library\n",
    "#function for voice to text \n",
    "def speech():\n",
    "    r=sr.Recognizer()\n",
    "    with sr.Microphone() as source:\n",
    "        audio=r.listen(source)\n",
    "        try:\n",
    "            t=r.recognize_google(audio)\n",
    "            return t\n",
    "        except:\n",
    "             return None"
   ]
  },
  {
   "cell_type": "code",
   "execution_count": 46,
   "id": "9fdc19cf",
   "metadata": {},
   "outputs": [],
   "source": [
    "# Import the required module for text\n",
    "# to speech conversion\n",
    "from gtts import gTTS\n",
    "\n",
    "# This module is imported so that we can\n",
    "# play the converted audio\n",
    "import os\n",
    "def audio(mytext):\n",
    "    # Language in which you want to convert\n",
    "    language = 'en'\n",
    "    # Passing the text and language to the engine,\n",
    "    # here we have marked slow=False. Which tells\n",
    "    # the module that the converted audio should\n",
    "    # have a high speed\n",
    "    myobj = gTTS(text=mytext, lang=language, slow=False)\n",
    "    return myobj"
   ]
  },
  {
   "cell_type": "code",
   "execution_count": 47,
   "id": "cf656467",
   "metadata": {},
   "outputs": [],
   "source": [
    "#function for criteria match\n",
    "def criteria(member):\n",
    "    if int(member)<=3:\n",
    "        mytext=\"Need to check for the villa but 1,2,3 BHK are available sir\\madam\"\n",
    "        myobj=audio(mytext)\n",
    "        myobj.save(\"4.mp3\")\n",
    "        os.system(\"4.mp3\")\n",
    "    elif ((int(member)>=3) | (int(member)<=10)):\n",
    "        mytext=\" Need to check for the villa but 1,2,3 BHK are available sir\\madam\"\n",
    "        myobj=audio(mytext)\n",
    "        myobj.save(\"5.mp3\")\n",
    "        os.system(\"5.mp3\")\n",
    "    else:\n",
    "        mytext=\" Villa is available and 1,2,3 BHK is not available sir\\madam\"\n",
    "        myobj=audio(mytext)\n",
    "        myobj.save(\"6.mp3\")\n",
    "        os.system(\"6.mp3\")"
   ]
  },
  {
   "cell_type": "code",
   "execution_count": null,
   "id": "748bd595",
   "metadata": {},
   "outputs": [],
   "source": [
    "#main function\n",
    "#code for name function\n",
    "mytext=\"Welcome to Wave Hotel, and myself Diya and May i know your good name sir or madam\"\n",
    "myobj=audio(mytext)\n",
    "myobj.save(\"welcome.mp3\")\n",
    "os.system(\"welcome.mp3\")\n",
    "name=speech()\n",
    "#code for phone number\n",
    "mytext=\"Nice Name sir or madam can you please say the 10 digit Phone Number\"\n",
    "myobj=audio(mytext)\n",
    "myobj.save(\"phonenumber.mp3\")\n",
    "os.system(\"phonenumber.mp3\")\n",
    "phone_number=speech()\n",
    "#code for address\n",
    "mytext= \"Please provide the Address(City name)\"\n",
    "myobj=audio(mytext)\n",
    "myobj.save(\"address.mp3\")\n",
    "os.system(\"address.mp3\")\n",
    "address=speech()\n",
    "#code for id_proof\n",
    "mytext=\"Please share Aadhar number or any id proof for verification\"\n",
    "myobj=audio(mytext)\n",
    "myobj.save(\"proof.mp3\")\n",
    "os.system(\"proof.mp3\")\n",
    "id_proof=speech()\n",
    "#code for room_type\n",
    "mytext=\"What kind of room are you looking sir/madam We have 1BHK or 2BHK or 3BHK or Villa are available\"\n",
    "myobj=audio(mytext)\n",
    "myobj.save(\"room.mp3\")\n",
    "os.system(\"room.mp3\")\n",
    "room_type=speech()\n",
    "#code for arrival date\n",
    "mytext=\"Arrival Date sir/madam like if its 24\\02\\2022 means say '24Feb' like this\"\n",
    "myobj=audio(mytext)\n",
    "myobj.save(\"arrivaldate.mp3\")\n",
    "os.system(\"arrivaldate.mp3\")\n",
    "date=speech()\n",
    "#code for group of member\n",
    "mytext=\" Member coming sir/madam\"\n",
    "myobj=audio(mytext)\n",
    "myobj.save(\"member.mp3\")\n",
    "os.system(\"member.mp3\")\n",
    "Member=speech()\n",
    "#code for depature date\n",
    "mytext=\" Depature Date sir/madam like if its 28\\02\\2022 means say '28Feb' like this\"\n",
    "myobj=audio(mytext)\n",
    "myobj.save(\"depaturedate.mp3\")\n",
    "os.system(\"depaturedate.mp3\")\n",
    "depature_date=speech()\n",
    "#criteria check\n",
    "criteria(member)\n",
    "#final segment for confirmation ogf booking\n",
    "mytext=\"To confirm the booking please press 1 or want to wait for the room press 2 or any queries please press any\"\n",
    "myobj=audio(mytext)\n",
    "myobj.save(\"booking.mp3\")\n",
    "os.system(\"booking.mp3\")\n",
    "a=input(\"To confirm the booking please press 1 or want to wait for the room press 2 or any queries please press any:\")\n",
    "if a==\"1\":\n",
    "    mytext=\"Thanks for Booking Happy vacation\\n Thank you please visit again\"\n",
    "    myobj=audio(mytext)\n",
    "    myobj.save(\"1.mp3\")\n",
    "    os.system(\"1.mp3\")\n",
    "elif a==\"2\":\n",
    "    mytext=\"We are extremly sorry for this and we hope the waiting will be sort out quickly \\nThank you please visit again\"\n",
    "    myobj=audio(mytext)\n",
    "    myobj.save(\"2.mp3\")\n",
    "    os.system(\"2.mp3\")\n",
    "else:\n",
    "    mytext=\"Please contact xyz@xyz.com for queries or please contact xxxxxxxxxx for any queries \\n Thank you please visit again\"\n",
    "    myobj=audio(mytext)\n",
    "    myobj.save(\"3.mp3\")\n",
    "    os.system(\"3.mp3\")"
   ]
  }
 ],
 "metadata": {
  "kernelspec": {
   "display_name": "Python 3 (ipykernel)",
   "language": "python",
   "name": "python3"
  },
  "language_info": {
   "codemirror_mode": {
    "name": "ipython",
    "version": 3
   },
   "file_extension": ".py",
   "mimetype": "text/x-python",
   "name": "python",
   "nbconvert_exporter": "python",
   "pygments_lexer": "ipython3",
   "version": "3.9.12"
  }
 },
 "nbformat": 4,
 "nbformat_minor": 5
}
